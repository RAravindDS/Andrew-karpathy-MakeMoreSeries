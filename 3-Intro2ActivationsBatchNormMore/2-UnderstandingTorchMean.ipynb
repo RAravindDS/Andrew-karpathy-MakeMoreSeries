{
 "cells": [
  {
   "cell_type": "code",
   "execution_count": 5,
   "metadata": {},
   "outputs": [
    {
     "name": "stdout",
     "output_type": "stream",
     "text": [
      "Tensor: tensor([[ 1.7709,  1.1485,  0.0804, -0.0314],\n",
      "        [-0.0530,  0.8537,  1.1600,  0.3380],\n",
      "        [ 0.2127,  2.1935, -0.8011, -1.3338],\n",
      "        [ 0.6756, -0.4995, -0.9554, -0.5681]])\n",
      "Tensor shape: torch.Size([4, 4])\n"
     ]
    },
    {
     "data": {
      "image/png": "[encoded data removed]",
      "text/plain": [
       "<Figure size 432x288 with 1 Axes>"
      ]
     },
     "metadata": {
      "needs_background": "light"
     },
     "output_type": "display_data"
    }
   ],
   "source": [
    "# Let's understand the torch mean function with different dimensions \n",
    "\n",
    "import torch \n",
    "import torchshow as ts  # This is for visualization process \n",
    "import matplotlib.pyplot as plt \n",
    "\n",
    "## Let's create a normal distribution tensor \n",
    "nt = torch.randn( (4,4))  # 4 rows, 4 columns \n",
    "\n",
    "print(f\"Tensor: {nt}\\nTensor shape: {nt.shape}\")\n",
    "\n",
    "plt.imshow(nt); \n",
    "plt.grid(\"off\")"
   ]
  },
  {
   "cell_type": "code",
   "execution_count": 15,
   "metadata": {},
   "outputs": [
    {
     "name": "stdout",
     "output_type": "stream",
     "text": [
      "Overall mean: 0.26193782687187195\n"
     ]
    }
   ],
   "source": [
    "# Let's calculate overall mean for 4x4 tensor \n",
    "\n",
    "## To find the overall mean, you can use the .mean() method \n",
    "overall_mean = nt.mean()  # overall mean is single number \n",
    "\n",
    "\"\"\"  \n",
    "Calculations: \n",
    "-> Simply it add all the elements and divide by len of the element \n",
    "\n",
    "overall_mean = nt.view(-1).sum() / len(nt.view(-1))\n",
    "\n",
    "view(-1) -> streches all the elements into one single tensor \n",
    "\"\"\"\n",
    "\n",
    "print(f\"Overall mean: {overall_mean}\")\n"
   ]
  },
  {
   "cell_type": "code",
   "execution_count": 22,
   "metadata": {},
   "outputs": [
    {
     "name": "stdout",
     "output_type": "stream",
     "text": [
      "Transformed nt_t:\n",
      "tensor([[ 1.7709, -0.0530,  0.2127,  0.6756],\n",
      "        [ 1.1485,  0.8537,  2.1935, -0.4995],\n",
      "        [ 0.0804,  1.1600, -0.8011, -0.9554],\n",
      "        [-0.0314,  0.3380, -1.3338, -0.5681]])\n"
     ]
    },
    {
     "data": {
      "text/plain": [
       "' \\nCalculations: \\n[ 1.7709 + -0.0530 + 0.2127 + 0.6756] / 4 = \\n[ 1.1485 +  0.8537 +  2.1935 + -0.4995] / 4 = \\n[ 0.0804 +  1.1600 + -0.8011 + -0.9554] / 4 = \\n[-0.0314 + 0.3380 + -1.3338 + -0.5681] / 4 = \\n\\n\\n\\n'"
      ]
     },
     "execution_count": 22,
     "metadata": {},
     "output_type": "execute_result"
    }
   ],
   "source": [
    "# It looks very easy until we are calculating the mean based on the dimensions :(  \n",
    "# Let's calculate the mean for dim = 0 (rows) and dim = 1 (columns)\n",
    "\n",
    "## For better understanding let me transpose the matrix \n",
    "nt_t = nt.T  \n",
    "\n",
    "print(f\"Transformed nt_t:\\n{nt_t}\") # output bellow \n",
    "\"\"\" \n",
    "\n",
    "\"\"\"\n",
    "\n",
    "## Let's calculate mean for dimension 0 (rows) \n",
    "dim_0_mean = nt.mean(dim = 0) \n",
    "\n",
    "\"\"\" \n",
    "Transposed Tensor: \n",
    "[ 1.7709, -0.0530,  0.2127,  0.6756],\n",
    "[ 1.1485,  0.8537,  2.1935, -0.4995],\n",
    "[ 0.0804,  1.1600, -0.8011, -0.9554],\n",
    "[-0.0314,  0.3380, -1.3338, -0.5681] \n",
    "\n",
    "Calculations for dim = 0 (finding mean for all individual rows)\n",
    "[ 1.7709 + -0.0530 + 0.2127 + 0.6756] / 4 = (0.6515)\n",
    "[ 1.1485 +  0.8537 +  2.1935 + -0.4995] / 4 = (0.9240)\n",
    "[ 0.0804 +  1.1600 + -0.8011 + -0.9554] / 4 = (-0.1290)\n",
    "[-0.0314 + 0.3380 + -1.3338 + -0.5681] / 4 = (-0.3988)\n",
    "\n",
    "output dim_0: [0.6515, 0.9240, -0.1290, -0.3988]\n",
    "\n",
    "\n",
    "Calculations for dim = 1 (finding mean for all individual columns) \n",
    "[1.7709 + 1.1485 + 0.0804 + -0.0313] / 4 = (0.7421)\n",
    "[-0.0530 + 0.8537 + 1.1600 + 0.3380 ] / 4 = (0.5747_\n",
    "[0.2127 + 2.1935 + -0.8011 + -1.3338 ] / 4 = (0.0678)\n",
    "[0.6756 + -0.4995 + -0.9954 + -0.5681] / 4 = (-0.3469)  \n",
    "\n",
    "output dim_1 : [0.7421, 0.4554, 0.668, 0.1508]\n",
    "\n",
    "Note: I am doing this calculations on the transformed tensor for better \n",
    "      understanding: \n",
    "\"\"\"\n",
    "\n",
    "\n",
    " "
   ]
  },
  {
   "cell_type": "code",
   "execution_count": 34,
   "metadata": {},
   "outputs": [
    {
     "data": {
      "text/plain": [
       "tensor([ 0.7421,  0.5747,  0.0678, -0.3369])"
      ]
     },
     "execution_count": 34,
     "metadata": {},
     "output_type": "execute_result"
    }
   ],
   "source": [
    "nt.mean(dim = 1)"
   ]
  },
  {
   "cell_type": "code",
   "execution_count": 37,
   "metadata": {},
   "outputs": [
    {
     "data": {
      "text/plain": [
       "tensor([-0.3469])"
      ]
     },
     "execution_count": 37,
     "metadata": {},
     "output_type": "execute_result"
    }
   ],
   "source": [
    "torch.tensor([0.6756 + -0.4995 + -0.9954 + -0.5681] )/ 4"
   ]
  },
  {
   "cell_type": "code",
   "execution_count": 23,
   "metadata": {},
   "outputs": [
    {
     "data": {
      "text/plain": [
       "tensor([ 0.6515,  0.9240, -0.1290, -0.3988])"
      ]
     },
     "execution_count": 23,
     "metadata": {},
     "output_type": "execute_result"
    }
   ],
   "source": [
    "dim_0_mean"
   ]
  }
 ],
 "metadata": {
  "kernelspec": {
   "display_name": "base",
   "language": "python",
   "name": "python3"
  },
  "language_info": {
   "codemirror_mode": {
    "name": "ipython",
    "version": 3
   },
   "file_extension": ".py",
   "mimetype": "text/x-python",
   "name": "python",
   "nbconvert_exporter": "python",
   "pygments_lexer": "ipython3",
   "version": "3.9.7"
  },
  "orig_nbformat": 4
 },
 "nbformat": 4,
 "nbformat_minor": 2
}
