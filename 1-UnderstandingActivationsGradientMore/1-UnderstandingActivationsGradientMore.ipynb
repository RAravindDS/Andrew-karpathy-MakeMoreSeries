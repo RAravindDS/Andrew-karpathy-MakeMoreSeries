{
 "cells": [
  {
   "cell_type": "code",
   "execution_count": 1,
   "metadata": {},
   "outputs": [],
   "source": [
    "# In this notebook we will understand the activations and gradients during training and back-propagation (specially gradients when they flowing backwards, how they behave and\n",
    "# and how they look like). \n",
    "\n",
    "## And to understand the history why did they developed advanced architectures like RNN, LSTM and More. \n",
    "## This advanced models \"RNN\", \"LSTM\", and \"GRU\" are vey touch to optimize, to understand why this notebook will be very useful. \n",
    "\n",
    "## Let's create a dataset and model and complete the training before understanding this:) "
   ]
  },
  {
   "cell_type": "code",
   "execution_count": 2,
   "metadata": {},
   "outputs": [],
   "source": [
    "# imports \n",
    "import torch\n",
    "import torch.nn.functional as F\n",
    "import matplotlib.pyplot as plt # for making figures\n",
    "%matplotlib inline"
   ]
  },
  {
   "cell_type": "code",
   "execution_count": 3,
   "metadata": {},
   "outputs": [
    {
     "name": "stdout",
     "output_type": "stream",
     "text": [
      "{1: 'a', 2: 'b', 3: 'c', 4: 'd', 5: 'e', 6: 'f', 7: 'g', 8: 'h', 9: 'i', 10: 'j', 11: 'k', 12: 'l', 13: 'm', 14: 'n', 15: 'o', 16: 'p', 17: 'q', 18: 'r', 19: 's', 20: 't', 21: 'u', 22: 'v', 23: 'w', 24: 'x', 25: 'y', 26: 'z', 0: '.'}\n",
      "27\n"
     ]
    }
   ],
   "source": [
    "# read in all the words\n",
    "words = open('names.txt', 'r').read().splitlines()\n",
    "\n",
    "# build the vocabulary of characters and mappings to/from integers\n",
    "chars = sorted(list(set(''.join(words))))\n",
    "stoi = {s:i+1 for i,s in enumerate(chars)}\n",
    "stoi['.'] = 0\n",
    "itos = {i:s for s,i in stoi.items()}\n",
    "vocab_size = len(itos)\n",
    "print(itos)\n",
    "print(vocab_size)"
   ]
  },
  {
   "cell_type": "code",
   "execution_count": 4,
   "metadata": {},
   "outputs": [
    {
     "name": "stdout",
     "output_type": "stream",
     "text": [
      "torch.Size([182625, 3]) torch.Size([182625])\n",
      "torch.Size([22655, 3]) torch.Size([22655])\n",
      "torch.Size([22866, 3]) torch.Size([22866])\n"
     ]
    },
    {
     "name": "stderr",
     "output_type": "stream",
     "text": [
      "C:\\Users\\aravi\\AppData\\Local\\Temp\\ipykernel_28424\\550266794.py:15: UserWarning: Failed to initialize NumPy: module compiled against API version 0x10 but this version of numpy is 0xf (Triggered internally at  ..\\torch\\csrc\\utils\\tensor_numpy.cpp:68.)\n",
      "  X = torch.tensor(X)\n"
     ]
    }
   ],
   "source": [
    "# build the dataset\n",
    "block_size = 3 # context length: how many characters do we take to predict the next one?\n",
    "\n",
    "def build_dataset(words):  \n",
    "  X, Y = [], []\n",
    "  \n",
    "  for w in words:\n",
    "    context = [0] * block_size\n",
    "    for ch in w + '.':\n",
    "      ix = stoi[ch]\n",
    "      X.append(context)\n",
    "      Y.append(ix)\n",
    "      context = context[1:] + [ix] # crop and append\n",
    "\n",
    "  X = torch.tensor(X)\n",
    "  Y = torch.tensor(Y)\n",
    "  print(X.shape, Y.shape)\n",
    "  return X, Y\n",
    "\n",
    "import random\n",
    "random.seed(42)\n",
    "random.shuffle(words)\n",
    "n1 = int(0.8*len(words))\n",
    "n2 = int(0.9*len(words))\n",
    "\n",
    "Xtr,  Ytr  = build_dataset(words[:n1])     # 80%\n",
    "Xdev, Ydev = build_dataset(words[n1:n2])   # 10%\n",
    "Xte,  Yte  = build_dataset(words[n2:])     # 10%"
   ]
  },
  {
   "cell_type": "code",
   "execution_count": 5,
   "metadata": {},
   "outputs": [
    {
     "name": "stdout",
     "output_type": "stream",
     "text": [
      "11897\n"
     ]
    }
   ],
   "source": [
    "# MLP revisited\n",
    "n_embd = 10 # the dimensionality of the character embedding vectors\n",
    "n_hidden = 200 # the number of neurons in the hidden layer of the MLP\n",
    "\n",
    "g = torch.Generator().manual_seed(2147483647) # for reproducibility\n",
    "C  = torch.randn((vocab_size, n_embd),            generator=g)\n",
    "W1 = torch.randn((n_embd * block_size, n_hidden), generator=g) \n",
    "b1 = torch.randn(n_hidden,                        generator=g) \n",
    "W2 = torch.randn((n_hidden, vocab_size),          generator=g)\n",
    "b2 = torch.randn(vocab_size,                      generator=g)\n",
    "\n",
    "parameters = [C, W1, W2, b1, b2]\n",
    "print(sum(p.nelement() for p in parameters)) # number of parameters in total\n",
    "for p in parameters:\n",
    "  p.requires_grad = True"
   ]
  },
  {
   "cell_type": "code",
   "execution_count": 22,
   "metadata": {},
   "outputs": [
    {
     "name": "stdout",
     "output_type": "stream",
     "text": [
      "      0/  40000: 3.4957\n"
     ]
    }
   ],
   "source": [
    "# same optimization as last time\n",
    "max_steps = 40000\n",
    "batch_size = 32\n",
    "lossi = []\n",
    "\n",
    "for i in range(max_steps):\n",
    "  \n",
    "  # minibatch construct\n",
    "  ix = torch.randint(0, Xtr.shape[0], (batch_size,), generator=g)\n",
    "  Xb, Yb = Xtr[ix], Ytr[ix] # batch X,Y\n",
    "  \n",
    "  # forward pass\n",
    "  emb = C[Xb] # embed the characters into vectors\n",
    "  embcat = emb.view(emb.shape[0], -1) # concatenate the vectors\n",
    "  # Linear layer\n",
    "  hpreact = embcat @ W1 + b1 # hidden layer pre-activation\n",
    "  # Non-linearity\n",
    "  h = torch.tanh(hpreact) # hidden layer\n",
    "  logits = h @ W2 + b2 # output layer\n",
    "  loss = F.cross_entropy(logits, Yb) # loss function\n",
    "  \n",
    "  # backward pass\n",
    "  for p in parameters:\n",
    "    p.grad = None\n",
    "  loss.backward()\n",
    "  \n",
    "  # update\n",
    "  lr = 0.1 if i < 100000 else 0.01 # step learning rate decay\n",
    "  for p in parameters:\n",
    "    p.data += -lr * p.grad\n",
    "\n",
    "  # track stats\n",
    "  if i % 10000 == 0: # print every once in a while\n",
    "    print(f'{i:7d}/{max_steps:7d}: {loss.item():.4f}')\n",
    "  lossi.append(loss.log10().item())\n",
    "  \n",
    "  break\n",
    "  "
   ]
  },
  {
   "cell_type": "code",
   "execution_count": 13,
   "metadata": {},
   "outputs": [
    {
     "name": "stdout",
     "output_type": "stream",
     "text": [
      "train 2.587782382965088\n",
      "val 2.6106646060943604\n"
     ]
    }
   ],
   "source": [
    "@torch.no_grad() # this decorator disables gradient tracking\n",
    "def split_loss(split):\n",
    "  x,y = {\n",
    "    'train': (Xtr, Ytr),\n",
    "    'val': (Xdev, Ydev),\n",
    "    'test': (Xte, Yte),\n",
    "  }[split]\n",
    "  emb = C[x] # (N, block_size, n_embd)\n",
    "  embcat = emb.view(emb.shape[0], -1) # concat into (N, block_size * n_embd)\n",
    "  hpreact = embcat @ W1 # + b1\n",
    "  #hpreact = bngain * (hpreact - hpreact.mean(0, keepdim=True)) / hpreact.std(0, keepdim=True) + bnbias\n",
    "  # hpreact = bngain * (hpreact - bnmean_running) / bnstd_running + bnbias\n",
    "  h = torch.tanh(hpreact) # (N, n_hidden)\n",
    "  logits = h @ W2 + b2 # (N, vocab_size)\n",
    "  loss = F.cross_entropy(logits, y)\n",
    "  print(split, loss.item())\n",
    "\n",
    "split_loss('train')\n",
    "split_loss('val')"
   ]
  },
  {
   "attachments": {},
   "cell_type": "markdown",
   "metadata": {},
   "source": [
    "## Fixing initial Loss "
   ]
  },
  {
   "cell_type": "code",
   "execution_count": 14,
   "metadata": {},
   "outputs": [
    {
     "name": "stdout",
     "output_type": "stream",
     "text": [
      "Initial loss assumption: 3.295836925506592\n",
      "Initial Logits: tensor([ 3.7627e+00,  6.3170e+00, -5.6324e-01, -6.4921e-01,  3.8004e-04,\n",
      "         4.8292e+00, -5.2193e+00, -7.8016e-01,  1.8332e+00,  3.0436e+00,\n",
      "        -1.9714e+00, -2.2416e+00,  2.5453e+00, -8.1987e-01, -1.3570e+00,\n",
      "         2.9829e+00, -2.5108e+00, -3.8701e+00,  1.4292e+00,  3.0940e-01,\n",
      "         3.0391e-01,  3.4396e-01, -2.8735e-01, -1.8788e+00, -3.9309e+00,\n",
      "         3.1855e+00,  9.7701e-01], grad_fn=<SelectBackward0>)\n",
      "Very high we need roughly zero 😍\n"
     ]
    }
   ],
   "source": [
    "## Now we completed this training and let's debug the issues:) \n",
    "\n",
    "## The first thing we are going to understand the weight initialization. \n",
    "## if you see the loss for first step it's very high, it's states that weight initialization is too high or very bad:) \n",
    "\n",
    "\"\"\" \n",
    "In training of neural nets its almost always the case that you will have a rough idea for what loss to expect at initialization. It's depends on the problem setup and loss function. \n",
    "we can calculate using the possible outcomes: \n",
    "\n",
    "For Example: If you  have 27 possible outcomes, we can expect that that the possibility of next character is 27. \n",
    "at initialization, we have no reason to believe any characters to be much more likely than others. We would expect the probabilities distribution that comes out initially is \n",
    "a uniform distribution assigning equal probability to all 27 characters.  \n",
    "\n",
    "So the probability of any character is 1/27.0 and then calculate the loss. \n",
    "\n",
    "\"\"\"\n",
    "inLoss = - torch.tensor(1/27.0).log()\n",
    "print(f\"Initial loss assumption: {inLoss}\")  # 3.29 \n",
    "\n",
    "\"\"\" \n",
    "In our case we got more loss (25+). This means, In neural net while initialization the weights are messed up. Some characters are very confident and some characters are not confident. \n",
    "\n",
    "To solve this: we want the logits to roughly zero when the network is  initialized. Let's see the logits for initial step. Please add break statement in the training loop and\n",
    "execute this bellow code :) \n",
    "We can also solve by making the weights uniform. Will see this :) \n",
    "\"\"\"\n",
    "\n",
    "print(f\"Initial Logits: {logits[0]}\\nVery high we need roughly zero 😍\")  # This are all very high values we need to be roughly zero \n"
   ]
  },
  {
   "cell_type": "code",
   "execution_count": 15,
   "metadata": {},
   "outputs": [
    {
     "name": "stdout",
     "output_type": "stream",
     "text": [
      "11897\n"
     ]
    }
   ],
   "source": [
    "# Let's make some changes in the initialization process :) \n",
    "\n",
    "n_embd = 10 \n",
    "n_hidden = 200 \n",
    "\n",
    "g = torch.Generator().manual_seed(2147483647)\n",
    "C  = torch.randn((vocab_size, n_embd),            generator=g)\n",
    "W1 = torch.randn((n_embd * block_size, n_hidden), generator=g) \n",
    "b1 = torch.randn(n_hidden,                        generator=g) \n",
    "\n",
    "## Logits are calculated by h@W2+b2. We are initializing the b2 with random values(gaussian) of right size.Here we want roughly zeros we don't want random numbers. So let's add zero \n",
    "## it means b2 is zero while initialization.   \n",
    "b2 = torch.randn(vocab_size,                      generator=g) * 0  \n",
    "\n",
    "## Second we get logits by h@W2. So, we want logits to be very small, for this we would multiply the small value with W2 to get the small logits. \n",
    "W2 = torch.randn((n_hidden, vocab_size),          generator=g) * 0.1 \n",
    "## why we need small logits(logits near to zero) will discuss later!! \n",
    "\n",
    "parameters = [C, W1, W2, b1, b2]\n",
    "print(sum(p.nelement() for p in parameters))\n",
    "for p in parameters:\n",
    "  p.requires_grad = True\n",
    "  \n",
    "# Now run the training loop and see the initial loss. Note! Don't forget to add break statement to get the first step logits. \n",
    "## If you see the loss we are getting roughly 3.5+ it's very great compare to previous initialization which is 27+ loss. \n",
    "## Now remove the break statement, run the full training and see the training loss. You will get amazing result because of this initialization. It got around 1.64 loss(cool 😍)"
   ]
  },
  {
   "cell_type": "code",
   "execution_count": 16,
   "metadata": {},
   "outputs": [
    {
     "data": {
      "image/png": "[encoded data removed]",
      "text/plain": [
       "<Figure size 432x288 with 1 Axes>"
      ]
     },
     "metadata": {
      "needs_background": "light"
     },
     "output_type": "display_data"
    }
   ],
   "source": [
    "plt.plot(lossi); \n",
    "\n",
    "## why the plot is not like hockey stick (as usual) because most of the time the weight initialization at first is very bad so we usually get very high value. \n",
    "## And our model need to optimize the very big loss to low loss, this is the reason we usually get the hockey stick graph. \n",
    "## But now we got a thin straight graph because our initialization is perfect. This is fine :) \n",
    "\n",
    "## We got a very good results because instead of spending first 1000 iterations to reduce the loss or squashing down the weights. This is very useful technique :) "
   ]
  },
  {
   "attachments": {},
   "cell_type": "markdown",
   "metadata": {},
   "source": [
    "## Fixing Tanh Backward gradient issue."
   ]
  },
  {
   "cell_type": "code",
   "execution_count": 17,
   "metadata": {},
   "outputs": [],
   "source": [
    "# Tanh converts all the values between -1 to +1 very smoothly. When back-propagating to the tanh, we will end with zero gradient error and it makes the neuron to zero. \n",
    "# To understand this we need to understand the back-propagation calculation for the tanh function. \n",
    "\n",
    "def tanh_back_propagation(forward_output_of_tanh, previous_gradients): \n",
    "    \"\"\"Tanh back-propagation function\"\"\"\n",
    "    grad += (1 - forward_output_of_tanh**2) * previous_gradients\n",
    "    \n",
    "    return grad\n",
    "    \n",
    "## The problem !! \n",
    "# Consider forward_tanh_output = 1(feed forward), when back propagating we will insert this (1) in the formula, then gradients gets 0. because (1 - output**2) becomes 0. \n",
    "# Consider forward_tanh_output = -1(feed forward), when back propagating we will insert this (-1) in the formula, then gradients gets 0. because (1 - (-1)**2) becomes 0. \n",
    "# We know the tanh compress the inputs to -1 to +1 smoothly, but back propagating makes it zero. It means it destroy gradients to be zero. \n",
    "# This makes the neuron to be zero (dead neuron). This neuron will never learn anything after this.\n",
    "# This dead neuron sometimes happen in the initialization by chance or most of the time it happens while optimize the neural networks.\n",
    "      \n",
    "## The problem with some other activation functions !! \n",
    "# This is not only for tanh, other activation functions also has this issues like \"sigmoid\", \"relu\" and some more (research about this)\n",
    " \n",
    "## Will see how to solve this problem before this let's understand visually bellow :0  "
   ]
  },
  {
   "cell_type": "code",
   "execution_count": 52,
   "metadata": {},
   "outputs": [
    {
     "data": {
      "image/png": "[encoded data removed]",
      "text/plain": [
       "<Figure size 432x288 with 1 Axes>"
      ]
     },
     "metadata": {
      "needs_background": "light"
     },
     "output_type": "display_data"
    }
   ],
   "source": [
    "## Let's see the output of tanh in histogram \n",
    "plt.hist(h.view(-1).tolist(), 50); # view(-1) make to single dimension tensor \n",
    "\n",
    "## If you see the diagram, most of the value are in -1 and +1, it means most of outputs are near to -1 and +1 and this makes backward gradients makes destroy while back-propagating.  "
   ]
  },
  {
   "cell_type": "code",
   "execution_count": 73,
   "metadata": {},
   "outputs": [],
   "source": [
    "# How to solve this problem ? \n",
    "## If you see the network \"h\" is calculated by \"emb@W1+b1\" this is \"hpreact\". So let's optimize \"b1\" and \"W1\" to solve this issue. Why? \n",
    "## Because, This calculation \"emb@W1+b2\" makes the values to far from zero because of this our tanh is squashing between -1 to +1. We want \"hpreact\" closer to zero. \n",
    "## Let's solve this. So, let's add small values to W1 and b2 while initialization. "
   ]
  },
  {
   "cell_type": "code",
   "execution_count": 21,
   "metadata": {},
   "outputs": [
    {
     "name": "stdout",
     "output_type": "stream",
     "text": [
      "11897\n"
     ]
    }
   ],
   "source": [
    "# Let's add some small value to W1 and b1 to solve this issue: \n",
    "\n",
    "n_embd = 10 \n",
    "n_hidden = 200 \n",
    "\n",
    "g = torch.Generator().manual_seed(2147483647)\n",
    "C  = torch.randn((vocab_size, n_embd),            generator=g)\n",
    "\n",
    "# hpreact(emb@W1+b) Let's add some small values to W1 and b1\n",
    "W1 = torch.randn((n_embd * block_size, n_hidden), generator=g) * 0.1\n",
    "b1 = torch.randn(n_hidden,                        generator=g) * 0.1\n",
    "b2 = torch.randn(vocab_size,                      generator=g) * 0  \n",
    "W2 = torch.randn((n_hidden, vocab_size),          generator=g) * 0.1 \n",
    "\n",
    "\n",
    "parameters = [C, W1, W2, b1, b2]\n",
    "print(sum(p.nelement() for p in parameters))\n",
    "for p in parameters:\n",
    "  p.requires_grad = True\n",
    "  \n",
    "# Now put a break statement in the training loop and visualize the h(tanh) histogram to see if it's contains more -1 or +1. "
   ]
  },
  {
   "cell_type": "code",
   "execution_count": 23,
   "metadata": {},
   "outputs": [
    {
     "data": {
      "image/png": "[encoded data removed]",
      "text/plain": [
       "<Figure size 432x288 with 1 Axes>"
      ]
     },
     "metadata": {
      "needs_background": "light"
     },
     "output_type": "display_data"
    }
   ],
   "source": [
    "plt.hist(h.view(-1).tolist(), 50);\n",
    "\n",
    "# Now we have very less -1 and +1. In-fact we don't have. It helps to avoid the dead neuron. \n",
    "# And it makes the distribution very cooler ;) "
   ]
  },
  {
   "cell_type": "code",
   "execution_count": 28,
   "metadata": {},
   "outputs": [],
   "source": [
    "# plt.imshow(h.abs() > 0.99, cmap=\"gray\", interpolation=\"nearest\")  # If you see white color in the picture, it means it has value near 1. \n",
    "# If the plot has more white it means we have lot of values near to 1, which makes more dead neuron in our network. "
   ]
  },
  {
   "cell_type": "code",
   "execution_count": 29,
   "metadata": {},
   "outputs": [],
   "source": [
    "# Let's see all the result after optimization of our network ;) \n",
    "\n",
    "## Original network without optimization: \n",
    "# train 2.12\n",
    "# val 2.16 \n",
    "\n",
    "## fix tanh backward issue \n",
    "# train 2.07 \n",
    "# val 2.13 \n",
    "\n",
    "## fix initialization issue \n",
    "# train 2.03 \n",
    "# val 2.10"
   ]
  },
  {
   "attachments": {},
   "cell_type": "markdown",
   "metadata": {},
   "source": [
    "## Kaiming Init "
   ]
  },
  {
   "cell_type": "code",
   "execution_count": 30,
   "metadata": {},
   "outputs": [],
   "source": [
    "# Here we have very less network. So, we optimized the network very easily. But in practice we usually have very big networks in that case we will end up with lot of problems to optimize. \n",
    "# In practice, no one initializes the weight like what we did. What if we have 1000 of networks, and how do we initialize the weight?\n",
    "# To initialize the weight for larger networks, people usually follows some techniques like Kaiming Init (please look pytorch documentation to understand this)\n",
    "\n",
    "\"\"\" \n",
    "Before this we need to lookup something: \n",
    "-> Now-a-days you don't need to worry about the weight initialization because of modern architectures. \n",
    "-> In modern architectures people uses \"batch_normalization\", \"layer_normalization\" and more techniques which significantly helps to reduce the loss and training time of the model.\n",
    "-> First we will learn about batch normalization !! \n",
    "\n",
    "\"\"\""
   ]
  },
  {
   "attachments": {},
   "cell_type": "markdown",
   "metadata": {},
   "source": [
    "## Batch Normalization"
   ]
  },
  {
   "cell_type": "code",
   "execution_count": 1,
   "metadata": {},
   "outputs": [
    {
     "data": {
      "text/plain": [
       "'\\n# It came about 2015 by the google team! \\n# It made it to train the very deep neural net quite reliably. \\n# Let\\'s understand how it\\'s giving benefits. \\n## We don\\'t need a pre-activation should be very large so tanh makes to 1, or very small so tanh makes to -1. \\n## In-fact we need pre-activation  roughly gaussian. (0mean and 1std-deviation) at-least at initialization. \\n## This is what Batch normalization doing, it takes the \"pre-activation\" and normalizes it to \"gaussian distribution:\" \\n## \\n'"
      ]
     },
     "execution_count": 1,
     "metadata": {},
     "output_type": "execute_result"
    }
   ],
   "source": [
    "\"\"\"\n",
    "# It came about 2015 by the google team! \n",
    "# It made it to train the very deep neural net quite reliably. \n",
    "# Let's understand how it's giving benefits. \n",
    "## We don't need a pre-activation should be very large so tanh makes to 1, or very small so tanh makes to -1. \n",
    "## In-fact we need pre-activation  roughly gaussian. (0mean and 1std-deviation) at-least at initialization. \n",
    "## This is what Batch normalization doing, it takes the \"pre-activation\" and normalizes it to \"gaussian distribution:\" \n",
    "## \n",
    "\"\"\""
   ]
  },
  {
   "cell_type": "code",
   "execution_count": 1,
   "metadata": {},
   "outputs": [],
   "source": [
    "# Let's see in action!!\n",
    "\n",
    "import torch \n",
    "\n",
    "## Consider this is a pre-activation with the shape of 32, 200. \n",
    "hpreact = torch.randn( (4, 2, 2) ) # This is pre-activation (we need this roughly gaussian)\n",
    "\n",
    "## Let's take this and normalize to gaussian distribution.  \n",
    "\n"
   ]
  },
  {
   "cell_type": "code",
   "execution_count": 27,
   "metadata": {},
   "outputs": [
    {
     "data": {
      "text/plain": [
       "torch.Size([4, 3, 2])"
      ]
     },
     "execution_count": 27,
     "metadata": {},
     "output_type": "execute_result"
    }
   ],
   "source": [
    "fourth = torch.randn( (4, 3, 2) )\n",
    "# torch.\n",
    "fourth.shape\n",
    "\n",
    "\n"
   ]
  },
  {
   "cell_type": "code",
   "execution_count": 28,
   "metadata": {},
   "outputs": [],
   "source": [
    "import torchshow as ts"
   ]
  },
  {
   "cell_type": "code",
   "execution_count": 29,
   "metadata": {},
   "outputs": [
    {
     "data": {
      "text/plain": [
       "4"
      ]
     },
     "execution_count": 29,
     "metadata": {},
     "output_type": "execute_result"
    }
   ],
   "source": [
    "len(fourth)"
   ]
  },
  {
   "cell_type": "code",
   "execution_count": 30,
   "metadata": {},
   "outputs": [
    {
     "data": {
      "text/plain": [
       "tensor([[ 0.9798, -0.3100],\n",
       "        [ 0.6040,  0.9283],\n",
       "        [ 0.3635,  1.5184]])"
      ]
     },
     "execution_count": 30,
     "metadata": {},
     "output_type": "execute_result"
    }
   ],
   "source": [
    "fourth[0]"
   ]
  },
  {
   "cell_type": "code",
   "execution_count": null,
   "metadata": {},
   "outputs": [],
   "source": []
  },
  {
   "cell_type": "code",
   "execution_count": null,
   "metadata": {},
   "outputs": [],
   "source": [
    "ts.show(fourth)"
   ]
  },
  {
   "cell_type": "code",
   "execution_count": 317,
   "metadata": {},
   "outputs": [],
   "source": [
    "# hpreact.mean(dim = 0)"
   ]
  },
  {
   "cell_type": "code",
   "execution_count": 318,
   "metadata": {},
   "outputs": [
    {
     "data": {
      "text/plain": [
       "tensor([[[-0.0556,  0.3648],\n",
       "         [ 0.4200,  1.2959]],\n",
       "\n",
       "        [[-0.8864, -1.4869],\n",
       "         [ 0.0200,  0.0561]],\n",
       "\n",
       "        [[ 0.7532,  1.4177],\n",
       "         [ 1.9945,  0.3951]],\n",
       "\n",
       "        [[-0.8401, -2.0891],\n",
       "         [ 0.2592, -0.5302]]])"
      ]
     },
     "execution_count": 318,
     "metadata": {},
     "output_type": "execute_result"
    }
   ],
   "source": [
    "hpreact"
   ]
  },
  {
   "cell_type": "code",
   "execution_count": 310,
   "metadata": {},
   "outputs": [
    {
     "data": {
      "text/plain": [
       "(0.3287, 0.630975)"
      ]
     },
     "execution_count": 310,
     "metadata": {},
     "output_type": "execute_result"
    }
   ],
   "source": [
    "# dim = 0 \n",
    "\n",
    "hp_a = ( (0.0152 + 0.5926 + 0.6839 + 0.0231)/ 4)\n",
    "hp_b = ( (0.9670 + 0.5716 + -0.0575 + 1.0428)/ 4)\n",
    "\n",
    "\n",
    "hp_c = ( (0.7838 + 0.2630)/ 2)\n",
    "hp_d = ( (-0.0374 + 0.7228)/ 2 )\n",
    "\n",
    "(hp_a, hp_b)\n"
   ]
  },
  {
   "cell_type": "code",
   "execution_count": 322,
   "metadata": {},
   "outputs": [
    {
     "data": {
      "text/plain": [
       "(-0.4332, -0.7154)"
      ]
     },
     "execution_count": 322,
     "metadata": {},
     "output_type": "execute_result"
    }
   ],
   "source": [
    "# dim = 1 \n",
    "\n",
    "hp_a_ = ( (-0.0556 + 0.4200)/ 2)\n",
    "hp_b_ = ( (0.3648 + 1.2959)/ 2)\n",
    "\n",
    "hp_c_ = ((-0.8864 + 0.0200)/ 2) \n",
    "hp_d_ = ((-1.4869 + 0.0561)/ 2) \n",
    "\n",
    "( hp_c_, hp_d_)"
   ]
  },
  {
   "cell_type": "code",
   "execution_count": 321,
   "metadata": {},
   "outputs": [
    {
     "data": {
      "text/plain": [
       "tensor([[ 0.1822,  0.8303],\n",
       "        [-0.4332, -0.7154],\n",
       "        [ 1.3739,  0.9064],\n",
       "        [-0.2904, -1.3097]])"
      ]
     },
     "execution_count": 321,
     "metadata": {},
     "output_type": "execute_result"
    }
   ],
   "source": [
    "hpreact.mean(dim = 1)"
   ]
  },
  {
   "cell_type": "code",
   "execution_count": 144,
   "metadata": {},
   "outputs": [
    {
     "name": "stdout",
     "output_type": "stream",
     "text": [
      "tensor(-0.3894)\n",
      "tensor(-0.1993)\n",
      "tensor(-0.5139)\n",
      "tensor(-0.4111)\n"
     ]
    }
   ],
   "source": [
    "for i in range(4): \n",
    "    # print(a[:,i].sum() / len(a[:,i]))\n",
    "    print(a[i, :].sum()/ len(a[i, :]))"
   ]
  },
  {
   "cell_type": "code",
   "execution_count": 255,
   "metadata": {},
   "outputs": [],
   "source": [
    "a = [\n",
    " [[ 1.,  2.,  3.,  4.],\n",
    "  [ 5.,  6.,  7.,  8.],\n",
    "  [ 9., 10., 11., 12.]],\n",
    " [[13., 14., 15., 16.],\n",
    "  [17., 18., 19., 20.],\n",
    "  [21., 22., 23., 24.]], \n",
    " ]\n",
    "\n",
    "a = torch.tensor(a) \n",
    "\n"
   ]
  },
  {
   "cell_type": "code",
   "execution_count": 243,
   "metadata": {},
   "outputs": [
    {
     "name": "stdout",
     "output_type": "stream",
     "text": [
      "13.0 14.0 15.0 16.0\n"
     ]
    }
   ],
   "source": [
    "# dim = 0 for batches \n",
    "a_ = ( (1 + 13 + 25) / 3)\n",
    "b = ( (2+14 + 26) / 3 )\n",
    "c= ( (3+15+27) / 3 ) \n",
    "d= ( (4+16+28) / 3 ) \n",
    "\n",
    "print(a_, b, c, d)"
   ]
  },
  {
   "cell_type": "code",
   "execution_count": 259,
   "metadata": {},
   "outputs": [
    {
     "data": {
      "text/plain": [
       "tensor([5., 6., 7., 8.])"
      ]
     },
     "execution_count": 259,
     "metadata": {},
     "output_type": "execute_result"
    }
   ],
   "source": [
    "b = torch.tensor([\n",
    "                   [1., 2., 3., 4.], \n",
    "                   [5., 6., 7., 8.], \n",
    "                   [9., 10., 11., 12.]\n",
    "                   ], \n",
    "                   )\n",
    "\n",
    "b.mean(dim=0)"
   ]
  },
  {
   "cell_type": "code",
   "execution_count": 272,
   "metadata": {},
   "outputs": [
    {
     "data": {
      "text/plain": [
       "tensor(6.5000)"
      ]
     },
     "execution_count": 272,
     "metadata": {},
     "output_type": "execute_result"
    }
   ],
   "source": [
    "b.mean()"
   ]
  },
  {
   "cell_type": "code",
   "execution_count": 263,
   "metadata": {},
   "outputs": [
    {
     "data": {
      "text/plain": [
       "(2.5, 6.5, 10.5)"
      ]
     },
     "execution_count": 263,
     "metadata": {},
     "output_type": "execute_result"
    }
   ],
   "source": [
    "# dim = 1 for non-batch \n",
    "ba__ = ( (1 + 2 + 3 + 4)/ 4) \n",
    "bb__ = ( (5 + 6 + 7 + 8)/ 4)\n",
    "bc__ = ( (9 + 10 + 11 + 12)/ 4)\n",
    "\n",
    "(ba__, bb__, bc__) "
   ]
  },
  {
   "cell_type": "code",
   "execution_count": 207,
   "metadata": {},
   "outputs": [
    {
     "data": {
      "text/plain": [
       "tensor(5.)"
      ]
     },
     "execution_count": 207,
     "metadata": {},
     "output_type": "execute_result"
    }
   ],
   "source": [
    "# Since operations components are written in C++, they are not callable with operations such as ?? or \"__file__\" or \"getsourcefile\" type of operations."
   ]
  },
  {
   "cell_type": "code",
   "execution_count": 208,
   "metadata": {},
   "outputs": [
    {
     "data": {
      "text/plain": [
       "tensor(17.)"
      ]
     },
     "execution_count": 208,
     "metadata": {},
     "output_type": "execute_result"
    }
   ],
   "source": [
    "a[1][:, 0].sum() / 3"
   ]
  },
  {
   "cell_type": "code",
   "execution_count": null,
   "metadata": {},
   "outputs": [],
   "source": []
  }
 ],
 "metadata": {
  "kernelspec": {
   "display_name": "Python 3",
   "language": "python",
   "name": "python3"
  },
  "language_info": {
   "codemirror_mode": {
    "name": "ipython",
    "version": 3
   },
   "file_extension": ".py",
   "mimetype": "text/x-python",
   "name": "python",
   "nbconvert_exporter": "python",
   "pygments_lexer": "ipython3",
   "version": "3.9.7"
  },
  "orig_nbformat": 4
 },
 "nbformat": 4,
 "nbformat_minor": 2
}
