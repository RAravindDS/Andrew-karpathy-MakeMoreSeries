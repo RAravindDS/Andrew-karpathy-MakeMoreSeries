{
 "cells": [
  {
   "cell_type": "code",
   "execution_count": 7,
   "metadata": {},
   "outputs": [
    {
     "name": "stdout",
     "output_type": "stream",
     "text": [
      "\n",
      "Roughly this paper states that finding the next character using the previous n characters. \n",
      "\n",
      "For Example: n=3, xs = \"abc\", ys = \"d\" \n",
      "             n=5, xs = \"abcde\", ys = \"f\" \n",
      "\n"
     ]
    }
   ],
   "source": [
    "## Implementing the MLP character level model for words by following this paper  https://www.jmlr.org/papers/volume3/bengio03a/bengio03a.pdf\n",
    "## This is the first paper introduced for language modelling with MLP. Let's implement this \n",
    "\n",
    "print(\n",
    "\"\"\"\n",
    "Roughly this paper states that finding the next character using the previous n characters. \n",
    "\n",
    "For Example: n=3, xs = \"abc\", ys = \"d\" \n",
    "             n=5, xs = \"abcde\", ys = \"f\" \n",
    "\"\"\"\n",
    ")"
   ]
  },
  {
   "cell_type": "code",
   "execution_count": 2,
   "metadata": {},
   "outputs": [],
   "source": [
    "import torch \n",
    "import torch.nn.functional as F \n",
    "import matplotlib.pyplot as plt"
   ]
  },
  {
   "cell_type": "code",
   "execution_count": 5,
   "metadata": {},
   "outputs": [
    {
     "name": "stdout",
     "output_type": "stream",
     "text": [
      "Len of words: 32033\n",
      "Words: ['emma', 'olivia', 'ava', 'isabella', 'sophia', 'charlotte', 'mia', 'amelia', 'harper', 'evelyn']\n",
      "Len of unique characters: 26\n",
      "Itos:\n",
      "{1: 'a', 2: 'b', 3: 'c', 4: 'd', 5: 'e', 6: 'f', 7: 'g', 8: 'h', 9: 'i', 10: 'j', 11: 'k', 12: 'l', 13: 'm', 14: 'n', 15: 'o', 16: 'p', 17: 'q', 18: 'r', 19: 's', 20: 't', 21: 'u', 22: 'v', 23: 'w', 24: 'x', 25: 'y', 26: 'z', 0: '.'}\n"
     ]
    }
   ],
   "source": [
    "## exploring the dataset \n",
    "words = open(\"names.txt\", \"r\").read().splitlines() \n",
    "\n",
    "print(f\"Len of words: {len(words)}\") \n",
    "print(f\"Words: {words[:10]}\")\n",
    "\n",
    "## Unique characters\n",
    "chars = sorted(list(set(\"\".join(words)))) \n",
    "print(f\"Len of unique characters: {len(chars)}\") \n",
    "\n",
    "## building encoder, decoder like label2id and id2label \n",
    "stoi = { v:k+1 for k, v in enumerate(chars)}\n",
    "stoi['.'] = 0\n",
    "itos = { v:k for k, v in stoi.items()}\n",
    "print(f'Itos:\\n{itos}')"
   ]
  },
  {
   "cell_type": "code",
   "execution_count": 112,
   "metadata": {},
   "outputs": [
    {
     "name": "stdout",
     "output_type": "stream",
     "text": [
      "emma\n",
      "[0, 0, 0] 5\n",
      "... ----> e\n",
      "[0, 0, 5] 13\n",
      "..e ----> m\n",
      "[0, 5, 13] 13\n",
      ".em ----> m\n",
      "[5, 13, 13] 1\n",
      "emm ----> a\n",
      "[13, 13, 1] 0\n",
      "mma ----> .\n",
      "---------------\n",
      "olivia\n",
      "[0, 0, 0] 15\n",
      "... ----> o\n",
      "[0, 0, 15] 12\n",
      "..o ----> l\n",
      "[0, 15, 12] 9\n",
      ".ol ----> i\n",
      "[15, 12, 9] 22\n",
      "oli ----> v\n",
      "[12, 9, 22] 9\n",
      "liv ----> i\n",
      "[9, 22, 9] 1\n",
      "ivi ----> a\n",
      "[22, 9, 1] 0\n",
      "via ----> .\n",
      "---------------\n",
      "ava\n",
      "[0, 0, 0] 1\n",
      "... ----> a\n",
      "[0, 0, 1] 22\n",
      "..a ----> v\n",
      "[0, 1, 22] 1\n",
      ".av ----> a\n",
      "[1, 22, 1] 0\n",
      "ava ----> .\n",
      "---------------\n",
      "isabella\n",
      "[0, 0, 0] 9\n",
      "... ----> i\n",
      "[0, 0, 9] 19\n",
      "..i ----> s\n",
      "[0, 9, 19] 1\n",
      ".is ----> a\n",
      "[9, 19, 1] 2\n",
      "isa ----> b\n",
      "[19, 1, 2] 5\n",
      "sab ----> e\n",
      "[1, 2, 5] 12\n",
      "abe ----> l\n",
      "[2, 5, 12] 12\n",
      "bel ----> l\n",
      "[5, 12, 12] 1\n",
      "ell ----> a\n",
      "[12, 12, 1] 0\n",
      "lla ----> .\n",
      "---------------\n",
      "sophia\n",
      "[0, 0, 0] 19\n",
      "... ----> s\n",
      "[0, 0, 19] 15\n",
      "..s ----> o\n",
      "[0, 19, 15] 16\n",
      ".so ----> p\n",
      "[19, 15, 16] 8\n",
      "sop ----> h\n",
      "[15, 16, 8] 9\n",
      "oph ----> i\n",
      "[16, 8, 9] 1\n",
      "phi ----> a\n",
      "[8, 9, 1] 0\n",
      "hia ----> .\n",
      "---------------\n",
      "XShape torch.Size([32, 3]) YShape torch.Size([32])\n"
     ]
    }
   ],
   "source": [
    "# Building the dataset \n",
    "block_size = 3  # Total number of previous characters to predict the next character \n",
    "\n",
    "X, Y = [], []  # X is the input to the neural net, Y is the output of the corresponding X to the neural net \n",
    "for w in words[:5]: \n",
    "\n",
    "    context = [0] * block_size  # if n = 3 [0, 0, 0]\n",
    "    print(w)\n",
    "    for ch in w + \".\": \n",
    "        ix = stoi[ch]\n",
    "\n",
    "        print(context, ix)\n",
    "        X.append(context)\n",
    "        Y.append(ix)\n",
    "\n",
    "        print(\"\".join(itos[i] for i in context), '---->', itos[ix])\n",
    "        context = context[1:] + [ix]   # it's like rolling window \n",
    "\n",
    "    print(\"---\"*5)\n",
    "\n",
    "## This code tells us how the single word is converting to character level inputs \n",
    "\n",
    "X = torch.tensor(X)\n",
    "Y = torch.tensor(Y)\n",
    "print(\"XShape\", X.shape, \"YShape\", Y.shape)"
   ]
  },
  {
   "cell_type": "code",
   "execution_count": 113,
   "metadata": {},
   "outputs": [
    {
     "name": "stdout",
     "output_type": "stream",
     "text": [
      "tensor([-0.2882,  0.2658])\n"
     ]
    }
   ],
   "source": [
    "# Now we have created a input data, let's create an embedding to store this inupts and outputs: \n",
    "## Here we have 27 unique characters and we are going to embed in low dimensional space. \n",
    "\n",
    "### Let's create a two dimensional embeddings (we are initializing randomly)\n",
    "C = torch.randn( (27, 2) )  # 27 characters and 2 dimensional embeddings \n",
    "\n",
    "### Because it's a random number if you want to get the embedding for character \"e\", just get the index of \"e\" is 5 and do the indexing in C C[5] value is the\n",
    "### -- embedding. Later this embeddings will learned by back-propagation. Initially this is just a random numbers. \n",
    "\n",
    "# Embedding of character \"e\"\n",
    "print(C[stoi[\"m\"]]) "
   ]
  },
  {
   "cell_type": "code",
   "execution_count": 114,
   "metadata": {},
   "outputs": [
    {
     "name": "stdout",
     "output_type": "stream",
     "text": [
      "torch.Size([32, 3, 2])\n"
     ]
    }
   ],
   "source": [
    "## But the pytorch indexing is super powerfull, we can give two dimenional array to indexing, it can index. \n",
    "## It means we don't need a for loop to iterate over \"X\"(input), we can just give the \"X\" to the tensor and we get all the indexed elements.  \n",
    "\n",
    "emb = C[X]  # X is the input of the model \n",
    "print(emb.shape)\n",
    "\n",
    "## 32 is row of X, 3 is the dimension(column) of X, 2 is just we retrieved 2 len embeddings.  "
   ]
  },
  {
   "cell_type": "code",
   "execution_count": 115,
   "metadata": {},
   "outputs": [
    {
     "data": {
      "text/plain": [
       "tensor([[0.1621, 0.0919],\n",
       "        [0.1621, 0.0919],\n",
       "        [0.1621, 0.0919]])"
      ]
     },
     "execution_count": 115,
     "metadata": {},
     "output_type": "execute_result"
    }
   ],
   "source": [
    "emb[0]"
   ]
  },
  {
   "cell_type": "code",
   "execution_count": 116,
   "metadata": {},
   "outputs": [],
   "source": [
    "## Here we are having 2 dimensional space and 3 embeddings (block size) | Each character has 2 dimensional embeddings and we are taking 3 character to find the next character so input is 6 \n",
    "W1 = torch.randn( (emb[0].numel(), 100))  # 6 is just a 3 character + 2 size embeddings, 100 is the next layer neuron \n",
    "b1 = torch.randn( 100 )\n"
   ]
  },
  {
   "cell_type": "code",
   "execution_count": 117,
   "metadata": {},
   "outputs": [
    {
     "data": {
      "text/plain": [
       "torch.Size([32, 6])"
      ]
     },
     "execution_count": 117,
     "metadata": {},
     "output_type": "execute_result"
    }
   ],
   "source": [
    "# our aim is multiply emb@W + b but here the shape of emb and W is different \n",
    "\n",
    "torch.cat(torch.unbind(emb, 1), dim = 1).shape"
   ]
  },
  {
   "cell_type": "code",
   "execution_count": null,
   "metadata": {},
   "outputs": [],
   "source": []
  }
 ],
 "metadata": {
  "kernelspec": {
   "display_name": "Python 3",
   "language": "python",
   "name": "python3"
  },
  "language_info": {
   "codemirror_mode": {
    "name": "ipython",
    "version": 3
   },
   "file_extension": ".py",
   "mimetype": "text/x-python",
   "name": "python",
   "nbconvert_exporter": "python",
   "pygments_lexer": "ipython3",
   "version": "3.10.4"
  },
  "orig_nbformat": 4
 },
 "nbformat": 4,
 "nbformat_minor": 2
}
